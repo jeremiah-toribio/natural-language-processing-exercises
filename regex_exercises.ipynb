{
 "cells": [
  {
   "cell_type": "code",
   "execution_count": 2,
   "metadata": {},
   "outputs": [],
   "source": [
    "import re\n",
    "import pandas as pd"
   ]
  },
  {
   "cell_type": "markdown",
   "metadata": {},
   "source": [
    "# Question 1\n",
    "    1. Write a function named is_vowel. It should accept a string as input and use a regular expression to determine if the passed string is a vowel. While not explicity mentioned in the lesson, you can treat the result of re.search as a boolean value that indicates whether or not the regular expression matches the given string."
   ]
  },
  {
   "cell_type": "code",
   "execution_count": 3,
   "metadata": {},
   "outputs": [],
   "source": [
    "def is_vowel(subject):\n",
    "    '''\n",
    "    Determine whether or not user input contains a vowel.\n",
    "\n",
    "\n",
    "    Returns bool\n",
    "    '''\n",
    "    regex = r'[^bcdfghjklmnpqrstvwxyzBCDFGHJKLMNPQRSTVWXYZ]'\n",
    "    if re.findall(regex, str(subject)) != []:\n",
    "        return True\n",
    "    else:\n",
    "        return False\n",
    "    "
   ]
  },
  {
   "cell_type": "code",
   "execution_count": 4,
   "metadata": {},
   "outputs": [
    {
     "data": {
      "text/plain": [
       "True"
      ]
     },
     "execution_count": 4,
     "metadata": {},
     "output_type": "execute_result"
    }
   ],
   "source": [
    "is_vowel(subject='coal')"
   ]
  },
  {
   "cell_type": "markdown",
   "metadata": {},
   "source": [
    "# Question 2\n",
    "    2. Write a function named is_valid_username that accepts a string as input. A valid username starts with a lowercase letter, and only consists of lowercase letters, numbers, or the _ character. It should also be no longer than 32 characters. The function should return either True or False depending on whether the passed string is a valid username."
   ]
  },
  {
   "cell_type": "code",
   "execution_count": 19,
   "metadata": {},
   "outputs": [],
   "source": [
    "def is_valid_username(subject):\n",
    "    '''\n",
    "    Used to determine if the user input is a valid selection for a username or not.\n",
    "\n",
    "    Returns bool\n",
    "    '''\n",
    "    regex = r'^[a-z]\\w{1,31}$'\n",
    "    return bool(re.search(regex,subject))"
   ]
  },
  {
   "cell_type": "code",
   "execution_count": 20,
   "metadata": {},
   "outputs": [
    {
     "data": {
      "text/plain": [
       "True"
      ]
     },
     "execution_count": 20,
     "metadata": {},
     "output_type": "execute_result"
    }
   ],
   "source": [
    "is_valid_username('asdflkcao_sdfk_sofasokasdfrd')"
   ]
  },
  {
   "cell_type": "markdown",
   "metadata": {},
   "source": [
    "# Question 3\n",
    "    3. Write a regular expression to capture phone numbers. It should match all of the following:"
   ]
  },
  {
   "cell_type": "code",
   "execution_count": 23,
   "metadata": {},
   "outputs": [],
   "source": [
    "subject = '''\n",
    "(210) 867 5309,\n",
    "+1 210.867.5309,\n",
    "867-5309,\n",
    "210-867-5309\n",
    "'''\n",
    "regex = r'\\(?\\d{3}\\)?[-.\\s]?\\d{3}[-.\\s]?\\d{4}'"
   ]
  },
  {
   "cell_type": "code",
   "execution_count": 24,
   "metadata": {},
   "outputs": [
    {
     "data": {
      "text/plain": [
       "['(210) 867 5309', '210.867.5309', '210-867-5309']"
      ]
     },
     "execution_count": 24,
     "metadata": {},
     "output_type": "execute_result"
    }
   ],
   "source": [
    "re.findall(regex,subject)"
   ]
  },
  {
   "cell_type": "markdown",
   "metadata": {},
   "source": [
    "# Question 4\n",
    "    4. Use regular expressions to convert the dates below to the standardized year-month-day format."
   ]
  },
  {
   "cell_type": "code",
   "execution_count": 37,
   "metadata": {},
   "outputs": [],
   "source": [
    "subject = '''02/04/19\n",
    "02/05/19\n",
    "02/06/19\n",
    "02/07/19\n",
    "02/08/19\n",
    "02/09/19\n",
    "02/10/19'''\n",
    "regex = r'(\\d{2})/(\\d{2})/(\\d{2})'\n",
    "substitution=r'20\\3-\\2-\\1'"
   ]
  },
  {
   "cell_type": "code",
   "execution_count": 43,
   "metadata": {},
   "outputs": [],
   "source": [
    "dates = re.sub(regex,substitution,subject)"
   ]
  },
  {
   "cell_type": "code",
   "execution_count": 45,
   "metadata": {},
   "outputs": [],
   "source": [
    "dates = dates.split('\\n')\n",
    "dates"
   ]
  },
  {
   "cell_type": "markdown",
   "metadata": {},
   "source": [
    "# Question 5\n",
    "    5. Write a regex to extract the various parts of these logfile lines:"
   ]
  },
  {
   "cell_type": "code",
   "execution_count": 57,
   "metadata": {},
   "outputs": [],
   "source": [
    "subject = '''GET /api/v1/sales?page=86 [16/Apr/2019:193452+0000] HTTP/1.1 {200} 510348 \"python-requests/2.21.0\" 97.105.19.58\n",
    "POST /users_accounts/file-upload [16/Apr/2019:193452+0000] HTTP/1.1 {201} 42 \"User-Agent: Mozilla/5.0 (X11; Fedora; Fedora; Linux x86_64) AppleWebKit/537.36 (KHTML, like Gecko) Chrome/73.0.3683.86 Safari/537.36\" 97.105.19.58\n",
    "GET /api/v1/items?page=3 [16/Apr/2019:193453+0000] HTTP/1.1 {429} 3561 \"python-requests/2.21.0\" 97.105.19.58\n",
    "'''\n",
    "# 1. method\n",
    "# 2. path\n",
    "# 3. date\n",
    "# 4. http\n",
    "# 5. status_code\n",
    "# 6. ?\n",
    "# 7. req_method\n",
    "# 8. ip\n",
    "\n",
    "regex = r'(\\w+)\\s(\\S+)\\s\\[(.*?)\\]\\sHTTP/1.1\\s\\{(\\d+)\\}\\s(\\d+)\\s\"(.*?)\"\\s(.*)'"
   ]
  },
  {
   "cell_type": "code",
   "execution_count": 56,
   "metadata": {},
   "outputs": [
    {
     "name": "stdout",
     "output_type": "stream",
     "text": [
      "  Method                    URL                Timestamp HTTP Status Code  \\\n",
      "0    GET  /api/v1/sales?page=86  16/Apr/2019:193452+0000              200   \n",
      "\n",
      "  Response Size              User Agent    IP Address  \n",
      "0        510348  python-requests/2.21.0  97.105.19.58  \n"
     ]
    }
   ],
   "source": [
    "match = re.match(regex, subject)\n",
    "\n",
    "if match:\n",
    "    method, url, timestamp, http_status, response_size, user_agent, ip_address = match.groups()\n",
    "    \n",
    "    # Create a dictionary to hold the extracted information\n",
    "    log_dict = {\n",
    "        \"Method\": [method],\n",
    "        \"URL\": [url],\n",
    "        \"Timestamp\": [timestamp],\n",
    "        \"HTTP Status Code\": [http_status],\n",
    "        \"Response Size\": [response_size],\n",
    "        \"User Agent\": [user_agent],\n",
    "        \"IP Address\": [ip_address]\n",
    "    }\n",
    "    \n",
    "    # create df\n",
    "    df = pd.DataFrame(log_dict)\n",
    "    \n",
    "    print(df)\n",
    "else:\n",
    "    print(\"No match found\")"
   ]
  },
  {
   "cell_type": "code",
   "execution_count": null,
   "metadata": {},
   "outputs": [],
   "source": []
  }
 ],
 "metadata": {
  "kernelspec": {
   "display_name": "codeup",
   "language": "python",
   "name": "python3"
  },
  "language_info": {
   "codemirror_mode": {
    "name": "ipython",
    "version": 3
   },
   "file_extension": ".py",
   "mimetype": "text/x-python",
   "name": "python",
   "nbconvert_exporter": "python",
   "pygments_lexer": "ipython3",
   "version": "3.11.4"
  }
 },
 "nbformat": 4,
 "nbformat_minor": 2
}
