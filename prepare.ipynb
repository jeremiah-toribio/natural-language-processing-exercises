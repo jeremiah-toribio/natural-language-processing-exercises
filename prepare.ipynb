{
 "cells": [
  {
   "cell_type": "code",
   "execution_count": 1,
   "metadata": {},
   "outputs": [],
   "source": [
    "# arrays\n",
    "import numpy as np\n",
    "import pandas as pd\n",
    "# nlp\n",
    "import nltk\n",
    "from nltk.tokenize.toktok import ToktokTokenizer\n",
    "from nltk.corpus import stopwords\n",
    "# ascii manipulation\n",
    "import unicodedata\n",
    "# regex\n",
    "import re\n",
    "# my scripts\n",
    "import acquire as a"
   ]
  },
  {
   "cell_type": "markdown",
   "metadata": {},
   "source": [
    "# Lesson"
   ]
  },
  {
   "cell_type": "code",
   "execution_count": 2,
   "metadata": {},
   "outputs": [],
   "source": [
    "# unicodedata.normalize('NFKD', data).encode('ascii', 'ignore')"
   ]
  },
  {
   "cell_type": "code",
   "execution_count": 3,
   "metadata": {},
   "outputs": [],
   "source": [
    "# data = re.sub(r'^[^a-z0-9\\s]')"
   ]
  },
  {
   "cell_type": "code",
   "execution_count": 4,
   "metadata": {},
   "outputs": [],
   "source": [
    "# tokernizer\n",
    "# tokenize = nltk.tokenize.ToktokTokenizer()"
   ]
  },
  {
   "cell_type": "code",
   "execution_count": 5,
   "metadata": {},
   "outputs": [],
   "source": [
    "# data = tokenize(data)"
   ]
  },
  {
   "cell_type": "markdown",
   "metadata": {},
   "source": [
    "## Stemmitization / Lemmitization"
   ]
  },
  {
   "cell_type": "code",
   "execution_count": 6,
   "metadata": {},
   "outputs": [],
   "source": [
    "ps = nltk.porter.PorterStemmer()"
   ]
  },
  {
   "cell_type": "code",
   "execution_count": 7,
   "metadata": {},
   "outputs": [],
   "source": [
    "# stems = [ps.stem(word) for word in data.split()]"
   ]
  },
  {
   "cell_type": "code",
   "execution_count": 8,
   "metadata": {},
   "outputs": [],
   "source": [
    "# viewing frequency of words\n",
    "# pd.Series(stems).value_counts().head(10)"
   ]
  },
  {
   "cell_type": "code",
   "execution_count": 9,
   "metadata": {},
   "outputs": [],
   "source": [
    "wnl = nltk.stem.WordNetLemmatizer()"
   ]
  },
  {
   "cell_type": "code",
   "execution_count": 10,
   "metadata": {},
   "outputs": [],
   "source": [
    "# lemmas = [wnl.lemmatize(word) for word in data]\n",
    "# lemmatized = ' '.join(lemmas)"
   ]
  },
  {
   "cell_type": "code",
   "execution_count": 11,
   "metadata": {},
   "outputs": [],
   "source": [
    "# for word in 'studying what they needed to study, the students studied studiously'.split():\n",
    "#     print('stem:', ps.stem(word), '-- lemma:', wnl.lemmatize(word))"
   ]
  },
  {
   "cell_type": "markdown",
   "metadata": {},
   "source": [
    "## Removing stop words"
   ]
  },
  {
   "cell_type": "code",
   "execution_count": 12,
   "metadata": {},
   "outputs": [],
   "source": [
    "stopwords = stopwords.words('english')"
   ]
  },
  {
   "cell_type": "markdown",
   "metadata": {},
   "source": [
    "# Questions"
   ]
  },
  {
   "cell_type": "markdown",
   "metadata": {},
   "source": [
    "## 1. Define a function named `basic_clean`. It should take in a string and apply some basic text cleaning to it:\n",
    "\n",
    "- Lowercase everything\n",
    "- Normalize unicode characters\n",
    "- Replace anything that is not a letter, number, whitespace or a single quote."
   ]
  },
  {
   "cell_type": "code",
   "execution_count": 35,
   "metadata": {},
   "outputs": [],
   "source": [
    "def basic_clean(data):\n",
    "    '''\n",
    "    Prepares data to move forward into exploration.\n",
    "    '''\n",
    "\n",
    "    # Lower\n",
    "    data = data.lower()\n",
    "\n",
    "    # Replace anything that is not a letter, number, whitespace, single quote\n",
    "    data = re.sub(r'[^\\w\\s]', '', data)\n",
    "    data = re.sub(r\"[^a-z0-9'\\s]\", '', data)\n",
    "    # Normalize unicode\n",
    "    data = unicodedata.normalize('NFKD', data).encode('ascii', 'ignore')\n",
    "\n",
    "    return data"
   ]
  },
  {
   "cell_type": "markdown",
   "metadata": {},
   "source": [
    "## 2. Define a function named `tokenize` It should take in a string and tokenize all the words in the string."
   ]
  },
  {
   "cell_type": "code",
   "execution_count": 14,
   "metadata": {},
   "outputs": [],
   "source": [
    "def tokenize(data):\n",
    "    '''\n",
    "    Tokenizes data to then be stemmed and lemmed\n",
    "    '''\n",
    "    # Tokenizer obj\n",
    "    tokenizer = nltk.tokenize.ToktokTokenizer()\n",
    "\n",
    "    # Tokenize\n",
    "    data = tokenizer.tokenize(data, return_str=True)\n",
    "\n",
    "    return data"
   ]
  },
  {
   "cell_type": "markdown",
   "metadata": {},
   "source": [
    "## 3. Define a function named `stem`. It should accept some text and return the text after applying stemming to all the words."
   ]
  },
  {
   "cell_type": "code",
   "execution_count": 15,
   "metadata": {},
   "outputs": [],
   "source": [
    "def stem(data):\n",
    "    '''\n",
    "    Returns the stems of provided data.\n",
    "    '''\n",
    "\n",
    "    # Stem obj\n",
    "    ps = nltk.porter.PorterStemmer()\n",
    "\n",
    "    # Stemming\n",
    "    stems = [ps.stem(word) for word in data.split()]\n",
    "\n",
    "    # Combine\n",
    "    data_stemmed = ' '.join(stems)\n",
    "\n",
    "    return data_stemmed"
   ]
  },
  {
   "cell_type": "markdown",
   "metadata": {},
   "source": [
    "## 4. Define a function named `lemmatize`. It should accept some text and return the text after applying lemmatization to each word."
   ]
  },
  {
   "cell_type": "code",
   "execution_count": 16,
   "metadata": {},
   "outputs": [],
   "source": [
    "def lemmatize(data):\n",
    "    '''\n",
    "    Returns the provided data lemmatized\n",
    "    '''\n",
    "\n",
    "    # Lem obj\n",
    "    wnl = nltk.stem.WordNetLemmatizer()\n",
    "\n",
    "    # Lemming\n",
    "    lemmas = [wnl.lemmatize(word) for word in data.split()]\n",
    "\n",
    "    # Combine\n",
    "    data_lemmatized = ' '.join(lemmas)\n",
    "\n",
    "    return data_lemmatized"
   ]
  },
  {
   "cell_type": "markdown",
   "metadata": {},
   "source": [
    "## 5. Define a function named `remove_stopwords`. It should accept some text and return the text after removing all the stopwords.\n",
    "\n",
    "### This function should define two optional parameters,  `extra_words` and `exclude_words`. These parameters should define any additional stop words to include, and any words that we don't want to remove."
   ]
  },
  {
   "cell_type": "code",
   "execution_count": 17,
   "metadata": {},
   "outputs": [],
   "source": [
    "def remove_stopwords(data, extra_words=None, exclude_words=None):\n",
    "    '''\n",
    "    Removes the stopwords from data.\n",
    "\n",
    "    Adding/removing words will be passed as a list in str format\n",
    "\n",
    "    Returns data with no stopwords\n",
    "    '''\n",
    "\n",
    "    # Removing extra words if applicable\n",
    "    if exclude_words != None:\n",
    "        stopwords.remove(exclude_words)\n",
    "    else:\n",
    "        pass\n",
    "\n",
    "    # Adding extra words if applicable\n",
    "    if extra_words != None:\n",
    "        stopwords.append(extra_words)\n",
    "    else:\n",
    "        pass\n",
    "\n",
    "    # Setting stopwords\n",
    "    stopwords = stopwords.words('english')\n",
    "\n",
    "    # \n",
    "    words = data.split()\n",
    "    filtered_words = [w for w in words if w not in stopwords]\n",
    "\n",
    "    data_no_stopwords = ' '.join(filtered_words)\n",
    "\n",
    "    print(f'Removed {len(words) - len(filtered_words)} stopwords')\n",
    "    print('---')\n",
    "\n",
    "\n",
    "    return data_no_stopwords"
   ]
  },
  {
   "cell_type": "markdown",
   "metadata": {},
   "source": [
    "## 6. Use your data from the acquire to produce a dataframe of the news articles. Name the dataframe `news_df`."
   ]
  },
  {
   "cell_type": "code",
   "execution_count": 18,
   "metadata": {},
   "outputs": [
    {
     "name": "stdout",
     "output_type": "stream",
     "text": [
      "Saving soup for: https://inshorts.com/en/read/business\n",
      "Saving soup for: https://inshorts.com/en/read/technology\n",
      "Saving soup for: https://inshorts.com/en/read/sports\n",
      "Saving soup for: https://inshorts.com/en/read/entertainment\n",
      "Appending business website 0th headline / body\n",
      "Victoria's Secret ex-CEO cuts Harvard ties for not backing Israel, Victoria's Secret ex-CEO Leslie Wexner's foundation announced it's cutting its \"financial and programmatic\" ties with Harvard. \"We are stunned and sickened at the dismal failure of Harvard's leadership to take a clear...stand against the barbaric murders of innocent Israeli civilians,\" The Wexner Foundation said. Harvard's leaders were \"tiptoeing\" over Hamas' attacks against Israel, it added.\n",
      "\n",
      "+ + + + + + + + + +\n",
      "\n",
      "Appending business website 1th headline / body\n",
      "HDFC Bank's Vigil Aunty ad gets criticism for stop-sign bindi, people call it 'anti-Hindu', HDFC Bank's latest advertisement featuring Vigil Aunty is receiving criticism online. The advertisement, which aims to raise awareness regarding financial fraud, features Anuradha Menon as Vigil Aunty with a stop-sign like bindi. Some X users called the ad \"anti-Hindu\" and one of them also wrote, \"Is this how you represent Hindu culture with a stop sign on a woman's head?\"\n",
      "\n",
      "+ + + + + + + + + +\n",
      "\n",
      "Appending business website 2th headline / body\n",
      "IMEC big opportunity for investors to partner with India: PM Modi, PM Narendra Modi at the Global Maritime India Summit said the India-Middle East-Europe Economic Corridor (IMEC) is a big opportunity for investors to partner with India. This corridor will change the face of regional and global trade, he stated. \"Construction of next-generation mega ports...island development...and expansion of multimodal hubs will be taken up under this project,\" he added.\n",
      "\n",
      "+ + + + + + + + + +\n",
      "\n",
      "Appending business website 3th headline / body\n",
      "ICICI Bank fined ₹12 crore, Kotak ₹3.95 crore by RBI, The Reserve Bank of India (RBI) has imposed a penalty of ₹12.19 crore on ICICI Bank and a penalty of ₹3.95 crore on Kotak Mahindra Bank for non-compliance with certain regulatory norms. ICICI Bank was fined for contravention of directions issued by RBI on 'Loans and Advances-Statutory and Other Restrictions' and 'Financial Services provided by the Banks'.\n",
      "\n",
      "+ + + + + + + + + +\n",
      "\n",
      "Appending business website 4th headline / body\n",
      "35 lakh weddings in 23 days to generate record ₹4.25 lakh crore business in India: CAIT, Traders' body Confederation of All India Traders (CAIT) has estimated that 35 lakh weddings will take place in India between November 23 and December 15. This is likely to generate the highest-ever business of around ₹4.25 lakh crore, CAIT said. In Delhi alone, over 3.5 lakh weddings are expected to generate a business of about ₹1 lakh crore, it added.\n",
      "\n",
      "+ + + + + + + + + +\n",
      "\n",
      "Appending business website 5th headline / body\n",
      "Mahadev app key accused arrives from Dubai, held at Mumbai airport, Mrugank Mishra, a key accused in Mahadev betting app case, was arrested at the Mumbai airport on Saturday upon arriving from Dubai. A lookout notice had been issued against Mishra, who was hiding in Dubai. Originally from Madhya Pradesh, the 25-year-old allegedly helped the app's promoters open hundreds of dubious bank accounts to divert money generated by the scam.\n",
      "\n",
      "+ + + + + + + + + +\n",
      "\n",
      "Appending business website 6th headline / body\n",
      "Bankman-Fried's trial delay request over Adderall shortage denied, A US court denied FTX Founder Sam Bankman-Fried's request to delay the trial against him until his prescribed medicine Adderall arrives. The ex-billionaire's lawyers said he hasn't \"been able to concentrate [without his medicine] at the level he ordinarily would\". Ordering trial to proceed as planned, Judge Lewis Kaplan said, \"I can't have lawyers giving drugs to people on trial.\"\n",
      "\n",
      "+ + + + + + + + + +\n",
      "\n",
      "Appending business website 7th headline / body\n",
      "Indian wheat prices hit 8-month high, Prices of wheat in India have reached an eight-month high due to strong demand amid festivals, limited supplies and high import duty. Wheat prices in New Delhi jumped by 1.6% on Tuesday to ₹27,390 per metric tonne, highest since February 10. Notably, the Indian government last month said it had no immediate plans to abolish 40% import tax on wheat.\n",
      "\n",
      "+ + + + + + + + + +\n",
      "\n",
      "Appending business website 8th headline / body\n",
      "Dabur gets ₹321 crore GST demand notice, Dabur India has received a notice to pay Goods and Services Tax (GST) of ₹320.6 crore. \"The GST short paid/not-paid has been advised to be paid by the company along with the amount of applicable interest and penalty,\" Dabur said. \"The company will challenge the same based on strong merits by way of filing its reply/submissions,\" it added.\n",
      "\n",
      "+ + + + + + + + + +\n",
      "\n",
      "Appending business website 9th headline / body\n",
      "'Kill list' of LinkedIn staff being fired was leaked before announcement: Report, A list with names of about 500 employees was leaked internally before LinkedIn officially announced on Monday that it was laying off over 600 employees, Insider reported. An employee had warned about the \"kill list\" on an anonymous forum for verified employees. The list, which could be accessed by anyone, was deleted after employees started asking the management about it.\n",
      "\n",
      "+ + + + + + + + + +\n",
      "\n",
      "Appending technology website 0th headline / body\n",
      "Palestinian, Arab, Muslim Googlers deeply affected by rise in Islamophobia: Pichai, Google CEO Sundar Pichai in an e-mail to employees informed that the company is giving $8 million in grants to nonprofits providing relief to civilians affected in Israel and Gaza. \"What our 2,000+ colleagues in Israel are going through is heartbreaking,\" Pichai wrote. \"Our Palestinian, Arab and Muslim Googlers are deeply affected by a concerning rise in Islamophobia,\" he added.\n",
      "\n",
      "+ + + + + + + + + +\n",
      "\n",
      "Appending technology website 1th headline / body\n",
      "Russia fines Zoom $1.18mn for working without local office: Report, Russia has imposed a $1.18 million fine on Zoom for operating in the country without a local office, Reuters reported citing RIA news agency. The fine's amount is reportedly set at a 10th of Zoom's 2022 revenues in Russia. Zoom was fined around $153,800 last week over failure to save Russian citizens' data on a local server, the report said.\n",
      "\n",
      "+ + + + + + + + + +\n",
      "\n",
      "Appending technology website 2th headline / body\n",
      "US restricts sale of more advanced AI chips to China, The US on Tuesday unveiled plans to restrict the sale of more advanced AI chips to China to close loopholes in the measures announced last October. NVIDIA's A800 and H800 chips, which were specifically designed for the China market, will be among the chips affected by the latest policy. The rules also blacklist Chinese chip designers Moore Threads and Biren.\n",
      "\n",
      "+ + + + + + + + + +\n",
      "\n",
      "Appending technology website 3th headline / body\n",
      "Apple unveils new Pencil with USB-C port costing ₹7,900, Apple on Tuesday unveiled the new Apple Pencil with low latency, tilt sensitivity and a USB-C port that costs ₹7,900 in India. Designed with a matte finish and a flat side that magnetically attaches to the side of iPad for storage, the new Apple Pencil supports hover, allowing users to sketch and illustrate with even greater precision.\n",
      "\n",
      "+ + + + + + + + + +\n",
      "\n",
      "Appending technology website 4th headline / body\n",
      "Apple's cheaper headset to have less sensors, no EyeSight: Report, Apple is reportedly planning to use fewer external cameras and sensors in a lower-cost version of its $3,500 Vision Pro headset. As per a report from Bloomberg, the cheaper version will also have no EyeSight, an external display that shows a user's eyes. The company has reportedly discussed prices ranging from $1,500 to $2,500 for the new version. \n",
      "\n",
      "+ + + + + + + + + +\n",
      "\n",
      "Appending technology website 5th headline / body\n",
      "Dubai Police unveils driverless, AI-powered patrol vehicle, Dubai Police has unveiled a \"self-driving\" patrol vehicle that will be used to boost security in residential areas. The vehicle features an electric battery that lasts 15 hours and a 360-degree camera capable of using AI to recognise faces and read car numbers. Authorities said it also contains a drone to access areas unreachable by the vehicle. \n",
      "\n",
      "+ + + + + + + + + +\n",
      "\n",
      "Appending technology website 6th headline / body\n",
      "Bankman-Fried's trial delay request over Adderall shortage denied, A US court denied FTX Founder Sam Bankman-Fried's request to delay the trial against him until his prescribed medicine Adderall arrives. The ex-billionaire's lawyers said he hasn't \"been able to concentrate [without his medicine] at the level he ordinarily would\". Ordering trial to proceed as planned, Judge Lewis Kaplan said, \"I can't have lawyers giving drugs to people on trial.\"\n",
      "\n",
      "+ + + + + + + + + +\n",
      "\n",
      "Appending technology website 7th headline / body\n",
      "'Apple AirTag led to multiple murders,' claims lawsuit in US, Apple is facing a class action lawsuit in US that claims its tracking device AirTag \"has become the weapon of choice of stalkers\". \"Multiple murders have occurred in which the murderer used an AirTag to track the victim,\" the lawsuit alleges. The case was initially filed in December last year but now over 30 new plaintiffs have joined the lawsuit.\n",
      "\n",
      "+ + + + + + + + + +\n",
      "\n",
      "Appending technology website 8th headline / body\n",
      "'Kill list' of LinkedIn staff being fired was leaked before announcement: Report, A list with names of about 500 employees was leaked internally before LinkedIn officially announced on Monday that it was laying off over 600 employees, Insider reported. An employee had warned about the \"kill list\" on an anonymous forum for verified employees. The list, which could be accessed by anyone, was deleted after employees started asking the management about it.\n",
      "\n",
      "+ + + + + + + + + +\n",
      "\n",
      "Appending technology website 9th headline / body\n",
      "Facebook, YouTube, Google suppress pro-Palestine posts: Think tank, Think tank Hampton Institute alleged that social media platforms are suppressing pro-Palestine posts. \"YouTube is being paid lot of money to run nonstop ads from Israeli government,\" the institute said. \"Google has their search parameters set to prioritise...ahistorical information in Israel's favour...Facebook [is] actively blocking posts about 'factual' history of Israel/Palestine,\" it added.\n",
      "\n",
      "+ + + + + + + + + +\n",
      "\n",
      "Appending sports website 0th headline / body\n",
      "Netherlands defeat South Africa in another upset at ODI World Cup 2023, Netherlands, the lowest-ranked team in the ongoing ODI World Cup 2023, caused another upset in the tournament by defeating South Africa by 38 runs at the Himachal Pradesh Cricket Association Stadium in Dharamshala on Tuesday. Earlier, Afghanistan had registered a 69-run win against England in Delhi. This is South Africa's first defeat in ODI World Cup 2023.\n",
      "\n",
      "+ + + + + + + + + +\n",
      "\n",
      "Appending sports website 1th headline / body\n",
      "People would tell my parents 'Don't allow her to wear shorts': Asiad medallist Sutirtha, Table tennis player Sutirtha Mukherjee, who along with Ayhika Mukherjee bagged bronze in women's doubles TT event at 19th Asian Games, said where she grew up, people weren't that open-minded. \"People would [tell my parents] 'Don’t allow her to wear shorts',\" she added. She further said, \"Thankfully...my parents didn’t listen to any of that and gave me...freedom to play.\"\n",
      "\n",
      "+ + + + + + + + + +\n",
      "\n",
      "Appending sports website 2th headline / body\n",
      "Are Netherlands doing them in again: Harsha on SA's collapse, Commentator Harsha Bhogle took to X to state that batting second is turning out to be hazardous, after South Africa lost four wickets within 12 overs during their chase in the ODI World Cup 2023 match against Netherlands. \"Are Netherlands doing South Africa in again?\" he added. \"When the mind is uncertain and worried, the feet grow heavy,\" he stated.\n",
      "\n",
      "+ + + + + + + + + +\n",
      "\n",
      "Appending sports website 3th headline / body\n",
      "Rishabh Pant shares video of him running on treadmill, Warner says 'Made my day', Wicketkeeper-batter Rishabh Pant, who is undergoing rehab following his car accident, shared a video of him running on treadmill. \"No shortcuts, just pure hustle,\" he wrote. Commenting on his post, David Warner wrote, \"Made my day.\" Pant had met with an accident on December 30, 2022. He recently commenced batting and keeping in the nets. \n",
      "\n",
      "+ + + + + + + + + +\n",
      "\n",
      "Appending sports website 4th headline / body\n",
      "Sri Lanka Cricket lifts ban on Gunathilaka after acquittal in sexual assault case, Sri Lanka Cricket (SLC) has lifted ban on Danushka Gunathilaka after the batter was found not guilty of sexually assaulting his Tinder date in Australia. Gunathilaka was arrested last year on sidelines of T20 World Cup after a woman accused him of sexual intercourse without consent.  Sri Lanka Cricket had then suspended him from all forms of cricket in November.\n",
      "\n",
      "+ + + + + + + + + +\n",
      "\n",
      "Appending sports website 5th headline / body\n",
      "Exceptional bowling: Uthappa as SA lose 4 batters in 12 overs, Reacting to South Africa losing four batters within 12 overs during their ODI World Cup 2023 match against Netherlands, former India wicketkeeper-batter Robin Uthappa tweeted, \"Dream start for Netherlands!\" \"Exceptional bowling by the Netherlands bowlers to rattle the South African top order,\" he added. South Africa are chasing a target of 246 in 43 overs.\n",
      "\n",
      "+ + + + + + + + + +\n",
      "\n",
      "Appending sports website 6th headline / body\n",
      "PCB files complaint over crowd conduct against Pakistan players in World Cup match vs India , The PCB has filed a complaint regarding inappropriate conduct targeted at Pakistan squad during the India-Pakistan ODI World Cup 2023 match held at Narendra Modi Stadium in Ahmedabad on October 14. It also lodged another formal protest with ICC over delays in visas for Pakistani journalists and absence of visa policy for Pakistan fans for the ongoing tournament.\n",
      "\n",
      "+ + + + + + + + + +\n",
      "\n",
      "Appending sports website 7th headline / body\n",
      "Game vs SA could be over before powerplay if Eng bowl 1st: Butcher, Former England batter Mark Butcher said England's upcoming World Cup match against South Africa could get over before powerplay if England bowl first. \"Once the opposition...[gets] them on back foot, it doesn't look as if there's any way England can stop it,\" he added. Discussing England's loss against Afghanistan, Butcher stated, \"Chris Woakes got slaughtered...England were miles off pace.\"\n",
      "\n",
      "+ + + + + + + + + +\n",
      "\n",
      "Appending sports website 8th headline / body\n",
      "I have never seen Rauf pick wickets like Bumrah did vs Pak: Akram, Ex-Pakistan captain Wasim Akram said he has never seen pacer Haris Rauf swing the ball and pick wickets like Jasprit Bumrah did during India's ODI World Cup 2023 match against Pakistan. \"Haris only picks wickets when batters go after him...He has to improve his length while bowling in ODIs,\" he added. Bumrah dismissed Pakistan batters Shadab Khan and Muhammad Rizwan.\n",
      "\n",
      "+ + + + + + + + + +\n",
      "\n",
      "Appending sports website 9th headline / body\n",
      "3 of Netherlands' cricketers playing against SA today represented SA earlier, Netherlands' Sybrand Engelbrecht, Colin Ackermann & Roelof van der Merwe, who are playing against South Africa in their ODI World Cup 2023 match today, had represented South Africa earlier.  Engelbrecht and Ackermann have played for South Africa Under-19 team, while Roelof played 26 matches for South Africa in international cricket. Netherlands scored 245/8 in 43 overs in the rain-curtailed match.\n",
      "\n",
      "+ + + + + + + + + +\n",
      "\n",
      "Appending entertainment website 0th headline / body\n",
      "Planned to make 'Jab...' with Bobby, 'Highway' with Sunny: Imtiaz , Filmmaker Imtiaz Ali revealed that he was planning to make 'Jab We Met' with Bobby Deol and trying to make 'Highway' with Sunny Deol. The filmmaker revealed that Bobby kept delaying 'Jab We Met' because he was getting offers from big directors. While 'Jab We Met' featured Shahid Kapoor in lead role along with Kareena Kapoor, 'Highway' starred Randeep Hooda.  \n",
      "\n",
      "+ + + + + + + + + +\n",
      "\n",
      "Appending entertainment website 1th headline / body\n",
      "Ranbir asks photographers to be careful as they surround Waheeda Rehman, video surfaces, Veteran actress Waheeda Rehman was honoured with the Dadasaheb Phalke Award at the 69th National Awards ceremony on Tuesday. She was sitting in front of Alia Bhatt and Ranbir Kapoor, when media photographers started surrounding her and taking photos, nearly pushing her desk. In a video that has surfaced online, Ranbir can be seen requesting the media to be cautious.\n",
      "\n",
      "+ + + + + + + + + +\n",
      "\n",
      "Appending entertainment website 2th headline / body\n",
      "Don't break your bank: Zeenat to youngsters on pressure to spend on clothes, Actress Zeenat Aman took to Instagram to share a picture of her in jewellery and dress loaned to her. \"I'm sharing this because I don't want young people to feel pressured to buy new outfits or spend beyond their means just because they see celebrities in designer clothes,\" she wrote. \"Don't break your bank...enjoy what you wear,\" she added.\n",
      "\n",
      "+ + + + + + + + + +\n",
      "\n",
      "Appending entertainment website 3th headline / body\n",
      "'Kabhi Khushi...' had really bad reviews, I was depressed: Johar, Filmmaker Karan Johar said that he was \"very depressed\" when 'Kabhi Khushi Kabhie Gham' was released as it got \"really bad reviews\". \"Everyone was like 'old wine, new bottle same thing, turned over',\" he added. Karan recalled reaching a theatre where the film was playing and witnessing huge traffic due to a line for the film's advance bookings. \n",
      "\n",
      "\n",
      "+ + + + + + + + + +\n",
      "\n",
      "Appending entertainment website 4th headline / body\n",
      "Emotional moment: Sandeepa on visiting Kashmir home after 30 yrs , Actress Sandeepa Dhar, who was just two when her Kashmiri pandit family was forced to leave their house in Kashmir due to insurgency, opened up about returning to Kashmir after 30 years. Describing her return as an emotional moment, she said, \"It was...very heartwarming to come back to normalcy because for Kashmiri pandits, that word...didn't exist in Srinagar.\" \n",
      "\n",
      "+ + + + + + + + + +\n",
      "\n",
      "Appending entertainment website 5th headline / body\n",
      "Won't work with Sivakarthikeyan again, he betrayed me: D Imman , Music composer D Imman said that he will never work with actor Sivakarthikeyan again in this lifetime. \"It is because of a huge betrayal he did to me,\" he added. Imman further said it took time to realise he had been betrayed, adding, \"I confronted him on my part, and I can't reveal what he told me.\" \n",
      "\n",
      "\n",
      "+ + + + + + + + + +\n",
      "\n",
      "Appending entertainment website 6th headline / body\n",
      "What a shame, I'm going to erase today: Director Onir on SC verdict on same-sex marriage, Filmmaker and gay rights activist Onir, expressing his disappointment over Supreme Court's verdict wherein it refused to legalise same-sex marriages, wrote on X, \"What a shame.\" \"It almost feels like today did NOT HAPPEN. I'm going to erase today,\" he wrote in another post. \"We had high expectations from today's verdict. But it has been very disappointing,\" Onir said.\n",
      "\n",
      "\n",
      "\n",
      "\n",
      "+ + + + + + + + + +\n",
      "\n",
      "Appending entertainment website 7th headline / body\n",
      "Kriti Sanon, Allu Arjun's selfie in 'Pushpa' pose at National Awards ceremony goes viral, Kriti Sanon received the Best Actress award at the 69th National Film Awards ceremony on Tuesday for her performance in 'Mimi'. Meanwhile, Allu Arjun won the Best Actor award for his performance in 'Pushpa: The Rise'. Both the actors sat next to each other at the award ceremony and were seen striking the 'Pushpa' pose while taking a selfie.\n",
      "\n",
      "\n",
      "\n",
      "+ + + + + + + + + +\n",
      "\n",
      "Appending entertainment website 8th headline / body\n",
      "Taylor Swift's Eras tour security guard joins IDF to combat Hamas, A security guard who provided protection to singer and songwriter Taylor Swift during her 'Eras Tour' has returned to Israel to enlist in the Israel Defense Forces (IDF) reserves amid the ongoing Israel-Hamas war. \"I could not stand on the sidelines while families are being slaughtered and burned alive...Just for being Jewish or for being Israelis,\" the former guard said.\n",
      "\n",
      "+ + + + + + + + + +\n",
      "\n",
      "Appending entertainment website 9th headline / body\n",
      "Pics show Alia, Ranbir, Kriti, Allu Arjun interacting with Prez Murmu after National Awards, The 69th National Film Awards ceremony was held in Delhi today and the awards were presented by President Droupadi Murmu. Photos that have surfaced on the internet show Alia Bhatt, Ranbir Kapoor, Waheeda Rehman, Kriti Sanon, Karan Johar, Pankaj Tripathi, Allu Arjun, R Madhavan, SS Rajamouli, and Pallavi Joshi, among others, interacting with the President after the awards ceremony. \n",
      "\n",
      "\n",
      "\n",
      "+ + + + + + + + + +\n",
      "\n"
     ]
    }
   ],
   "source": [
    "news_df = a.get_inshorts()"
   ]
  },
  {
   "cell_type": "markdown",
   "metadata": {},
   "source": [
    "## 7. Make another dataframe for the Codeup blog posts. Name the dataframe `codeup_df`."
   ]
  },
  {
   "cell_type": "code",
   "execution_count": 19,
   "metadata": {},
   "outputs": [
    {
     "name": "stdout",
     "output_type": "stream",
     "text": [
      "This is the URL USED: https://codeup.edu/featured/apida-heritage-month/\n",
      "This is the URL USED: https://codeup.edu/featured/women-in-tech-panelist-spotlight/\n",
      "This is the URL USED: https://codeup.edu/featured/women-in-tech-rachel-robbins-mayhill/\n",
      "This is the URL USED: https://codeup.edu/codeup-news/women-in-tech-panelist-spotlight-sarah-mellor/\n",
      "This is the URL USED: https://codeup.edu/events/women-in-tech-madeleine/\n",
      "This is the URL USED: https://codeup.edu/codeup-news/panelist-spotlight-4/\n"
     ]
    }
   ],
   "source": [
    "codeup_df = a.get_codeup()"
   ]
  },
  {
   "cell_type": "markdown",
   "metadata": {},
   "source": [
    "## 8. For each dataframe, produce the following columns:\n",
    "\n",
    "- title to hold the title\n",
    "- original to hold the original article/post content\n",
    "- clean to hold the normalized and tokenized original with the stopwords removed.\n",
    "- stemmed to hold the stemmed version of the cleaned data.\n",
    "- lemmatized to hold the lemmatized version of the cleaned data."
   ]
  },
  {
   "cell_type": "code",
   "execution_count": 44,
   "metadata": {},
   "outputs": [],
   "source": [
    "codeup_df['cleaned_content'] = codeup_df.content.apply(basic_clean).apply(tokenize)"
   ]
  },
  {
   "cell_type": "code",
   "execution_count": 46,
   "metadata": {},
   "outputs": [],
   "source": [
    "codeup_df['stemmed'] = codeup_df.cleaned_content.apply(stem)\n",
    "codeup_df['lemm'] = codeup_df.cleaned_content.apply(lemmatize)"
   ]
  },
  {
   "cell_type": "code",
   "execution_count": 47,
   "metadata": {},
   "outputs": [
    {
     "data": {
      "text/html": [
       "<div>\n",
       "<style scoped>\n",
       "    .dataframe tbody tr th:only-of-type {\n",
       "        vertical-align: middle;\n",
       "    }\n",
       "\n",
       "    .dataframe tbody tr th {\n",
       "        vertical-align: top;\n",
       "    }\n",
       "\n",
       "    .dataframe thead th {\n",
       "        text-align: right;\n",
       "    }\n",
       "</style>\n",
       "<table border=\"1\" class=\"dataframe\">\n",
       "  <thead>\n",
       "    <tr style=\"text-align: right;\">\n",
       "      <th></th>\n",
       "      <th>title</th>\n",
       "      <th>url</th>\n",
       "      <th>content</th>\n",
       "      <th>cleaned_content</th>\n",
       "      <th>stemmed</th>\n",
       "      <th>lemm</th>\n",
       "    </tr>\n",
       "  </thead>\n",
       "  <tbody>\n",
       "    <tr>\n",
       "      <th>0</th>\n",
       "      <td>Spotlight on APIDA Voices: Celebrating Heritag...</td>\n",
       "      <td>https://codeup.edu/featured/apida-heritage-month/</td>\n",
       "      <td>['May 24, 2023 | Featured', 'May is traditiona...</td>\n",
       "      <td>b ' may 24 2023 featured may is traditionally ...</td>\n",
       "      <td>b ' may 24 2023 featur may is tradit known as ...</td>\n",
       "      <td>b ' may 24 2023 featured may is traditionally ...</td>\n",
       "    </tr>\n",
       "    <tr>\n",
       "      <th>1</th>\n",
       "      <td>Women in tech: Panelist Spotlight – Magdalena ...</td>\n",
       "      <td>https://codeup.edu/featured/women-in-tech-pane...</td>\n",
       "      <td>['Mar 28, 2023 | Events, Featured', 'Codeup is...</td>\n",
       "      <td>b ' mar 28 2023 events featured codeup is host...</td>\n",
       "      <td>b ' mar 28 2023 event featur codeup is host a ...</td>\n",
       "      <td>b ' mar 28 2023 event featured codeup is hosti...</td>\n",
       "    </tr>\n",
       "    <tr>\n",
       "      <th>2</th>\n",
       "      <td>Women in tech: Panelist Spotlight – Rachel Rob...</td>\n",
       "      <td>https://codeup.edu/featured/women-in-tech-rach...</td>\n",
       "      <td>['Mar 20, 2023 | Events, Featured', 'Codeup is...</td>\n",
       "      <td>b ' mar 20 2023 events featured codeup is host...</td>\n",
       "      <td>b ' mar 20 2023 event featur codeup is host a ...</td>\n",
       "      <td>b ' mar 20 2023 event featured codeup is hosti...</td>\n",
       "    </tr>\n",
       "    <tr>\n",
       "      <th>3</th>\n",
       "      <td>Women in Tech: Panelist Spotlight – Sarah Mellor</td>\n",
       "      <td>https://codeup.edu/codeup-news/women-in-tech-p...</td>\n",
       "      <td>['Mar 13, 2023 | Codeup News, Featured', 'Code...</td>\n",
       "      <td>b ' mar 13 2023 codeup news featured codeup is...</td>\n",
       "      <td>b ' mar 13 2023 codeup news featur codeup is h...</td>\n",
       "      <td>b ' mar 13 2023 codeup news featured codeup is...</td>\n",
       "    </tr>\n",
       "    <tr>\n",
       "      <th>4</th>\n",
       "      <td>Women in Tech: Panelist Spotlight – Madeleine ...</td>\n",
       "      <td>https://codeup.edu/events/women-in-tech-madele...</td>\n",
       "      <td>['Mar 6, 2023 | Events, Featured', 'Codeup is ...</td>\n",
       "      <td>b ' mar 6 2023 events featured codeup is hosti...</td>\n",
       "      <td>b ' mar 6 2023 event featur codeup is host a w...</td>\n",
       "      <td>b ' mar 6 2023 event featured codeup is hostin...</td>\n",
       "    </tr>\n",
       "    <tr>\n",
       "      <th>5</th>\n",
       "      <td>Black Excellence in Tech: Panelist Spotlight –...</td>\n",
       "      <td>https://codeup.edu/codeup-news/panelist-spotli...</td>\n",
       "      <td>['Feb 16, 2023 | Codeup News, Events, Featured...</td>\n",
       "      <td>b ' feb 16 2023 codeup news events featured co...</td>\n",
       "      <td>b ' feb 16 2023 codeup news event featur codeu...</td>\n",
       "      <td>b ' feb 16 2023 codeup news event featured cod...</td>\n",
       "    </tr>\n",
       "  </tbody>\n",
       "</table>\n",
       "</div>"
      ],
      "text/plain": [
       "                                               title  \\\n",
       "0  Spotlight on APIDA Voices: Celebrating Heritag...   \n",
       "1  Women in tech: Panelist Spotlight – Magdalena ...   \n",
       "2  Women in tech: Panelist Spotlight – Rachel Rob...   \n",
       "3   Women in Tech: Panelist Spotlight – Sarah Mellor   \n",
       "4  Women in Tech: Panelist Spotlight – Madeleine ...   \n",
       "5  Black Excellence in Tech: Panelist Spotlight –...   \n",
       "\n",
       "                                                 url  \\\n",
       "0  https://codeup.edu/featured/apida-heritage-month/   \n",
       "1  https://codeup.edu/featured/women-in-tech-pane...   \n",
       "2  https://codeup.edu/featured/women-in-tech-rach...   \n",
       "3  https://codeup.edu/codeup-news/women-in-tech-p...   \n",
       "4  https://codeup.edu/events/women-in-tech-madele...   \n",
       "5  https://codeup.edu/codeup-news/panelist-spotli...   \n",
       "\n",
       "                                             content  \\\n",
       "0  ['May 24, 2023 | Featured', 'May is traditiona...   \n",
       "1  ['Mar 28, 2023 | Events, Featured', 'Codeup is...   \n",
       "2  ['Mar 20, 2023 | Events, Featured', 'Codeup is...   \n",
       "3  ['Mar 13, 2023 | Codeup News, Featured', 'Code...   \n",
       "4  ['Mar 6, 2023 | Events, Featured', 'Codeup is ...   \n",
       "5  ['Feb 16, 2023 | Codeup News, Events, Featured...   \n",
       "\n",
       "                                     cleaned_content  \\\n",
       "0  b ' may 24 2023 featured may is traditionally ...   \n",
       "1  b ' mar 28 2023 events featured codeup is host...   \n",
       "2  b ' mar 20 2023 events featured codeup is host...   \n",
       "3  b ' mar 13 2023 codeup news featured codeup is...   \n",
       "4  b ' mar 6 2023 events featured codeup is hosti...   \n",
       "5  b ' feb 16 2023 codeup news events featured co...   \n",
       "\n",
       "                                             stemmed  \\\n",
       "0  b ' may 24 2023 featur may is tradit known as ...   \n",
       "1  b ' mar 28 2023 event featur codeup is host a ...   \n",
       "2  b ' mar 20 2023 event featur codeup is host a ...   \n",
       "3  b ' mar 13 2023 codeup news featur codeup is h...   \n",
       "4  b ' mar 6 2023 event featur codeup is host a w...   \n",
       "5  b ' feb 16 2023 codeup news event featur codeu...   \n",
       "\n",
       "                                                lemm  \n",
       "0  b ' may 24 2023 featured may is traditionally ...  \n",
       "1  b ' mar 28 2023 event featured codeup is hosti...  \n",
       "2  b ' mar 20 2023 event featured codeup is hosti...  \n",
       "3  b ' mar 13 2023 codeup news featured codeup is...  \n",
       "4  b ' mar 6 2023 event featured codeup is hostin...  \n",
       "5  b ' feb 16 2023 codeup news event featured cod...  "
      ]
     },
     "execution_count": 47,
     "metadata": {},
     "output_type": "execute_result"
    }
   ],
   "source": [
    "codeup_df"
   ]
  },
  {
   "cell_type": "code",
   "execution_count": 49,
   "metadata": {},
   "outputs": [],
   "source": [
    "news_df['cleaned_body'] = news_df.body.apply(basic_clean).apply(tokenize)"
   ]
  },
  {
   "cell_type": "code",
   "execution_count": 51,
   "metadata": {},
   "outputs": [],
   "source": [
    "news_df['stemmed'] = news_df.cleaned_body.apply(stem)\n",
    "news_df['lemm'] = news_df.cleaned_body.apply(lemmatize)"
   ]
  },
  {
   "cell_type": "markdown",
   "metadata": {},
   "source": [
    "## 9. Ask yourself:\n",
    "\n",
    "- If your corpus is 493KB, would you prefer to use stemmed or lemmatized text?\n",
    "    - I would prefer to lemmatize due to preservation of the data\n",
    "- If your corpus is 25MB, would you prefer to use stemmed or lemmatized text?\n",
    "    - I would prefer to lemmatize due to preservation of the data\n",
    "- If your corpus is 200TB of text and you're charged by the megabyte for your hosted computational resources, would you prefer to use stemmed or lemmatized text?\n",
    "    - Likely stem due to the large amount of data contained"
   ]
  }
 ],
 "metadata": {
  "kernelspec": {
   "display_name": "codeup",
   "language": "python",
   "name": "python3"
  },
  "language_info": {
   "codemirror_mode": {
    "name": "ipython",
    "version": 3
   },
   "file_extension": ".py",
   "mimetype": "text/x-python",
   "name": "python",
   "nbconvert_exporter": "python",
   "pygments_lexer": "ipython3",
   "version": "3.11.4"
  }
 },
 "nbformat": 4,
 "nbformat_minor": 2
}
